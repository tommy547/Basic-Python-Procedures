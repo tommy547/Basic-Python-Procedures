{
  "nbformat": 4,
  "nbformat_minor": 0,
  "metadata": {
    "colab": {
      "name": "Copy of Homework1.ipynb",
      "provenance": [],
      "collapsed_sections": [],
      "toc_visible": true
    },
    "kernelspec": {
      "name": "python3",
      "display_name": "Python 3"
    }
  },
  "cells": [
    {
      "cell_type": "markdown",
      "metadata": {
        "id": "hm8RAKinXsIP"
      },
      "source": [
        "## **Homework 1**\n",
        "\n",
        "### Create a copy of the notebook to start answering the questions. Name your notebook in the format HW1_lastname_firstname.ipynb to facilitate the grading process. \n",
        "\n",
        "### Answer all the questions, test your code to ensure there are no errors and the results are as expected. Once you have answered all the questions, save the final copy, then go to File-> click on Download.ipynb. Once the local copy has been downloaded, submit your file on Blackboard under the corresponding assignment section. Also provide us a link to your notebook during submission. \n",
        "\n",
        "### **The due date of this homework is 02/05/2021 (Friday).**\n",
        "\n",
        "### Please ensure you follow all the steps mentioned in the homework.\n",
        "\n",
        "### All the questions have a sample input and output to help you understand the question. Please note that your programs will be tested for other sets of inputs and outputs along with the sample provided. So test your code for other inputs.\n",
        "\n",
        "### You can submit your solutions any number of times until the deadline.\n"
      ]
    },
    {
      "cell_type": "markdown",
      "metadata": {
        "id": "uacFrEaZfcfq"
      },
      "source": [
        "##### Q1. Write a program that prompts the user to enter a password then prints the length of the password.\n",
        "\n",
        "```\n",
        "Enter your password: hello\n",
        "Your password is 5 long.\n",
        "```\n",
        "\n",
        "\n"
      ]
    },
    {
      "cell_type": "code",
      "metadata": {
        "id": "avPyES14ftCt",
        "colab": {
          "base_uri": "https://localhost:8080/"
        },
        "outputId": "15742f5e-4731-4707-ced2-cff73c010bcb"
      },
      "source": [
        "# Type solution here \n",
        "usrInputPassword = input(\"Enter your password: \")\n",
        "print(len(usrInputPassword))"
      ],
      "execution_count": null,
      "outputs": [
        {
          "output_type": "stream",
          "text": [
            "Enter your password: hghgu\n",
            "5\n"
          ],
          "name": "stdout"
        }
      ]
    },
    {
      "cell_type": "markdown",
      "metadata": {
        "id": "ekh-kABuItli"
      },
      "source": [
        ""
      ]
    },
    {
      "cell_type": "markdown",
      "metadata": {
        "id": "K1yko-xUItU3"
      },
      "source": [
        ""
      ]
    },
    {
      "cell_type": "markdown",
      "metadata": {
        "id": "behD0j_Of2TW"
      },
      "source": [
        "##### Q2. Write a program that prompts the user to enter their full name then prints the number of characters in their name (do not count spaces).\n",
        "\n",
        "```\n",
        "What is your name? Amulya Katti\n",
        "Amulya Katti your name has 11 characters.\n",
        "```"
      ]
    },
    {
      "cell_type": "code",
      "metadata": {
        "id": "XSdIRjwlhSlu",
        "colab": {
          "base_uri": "https://localhost:8080/"
        },
        "outputId": "f42b64ae-febc-4089-dc34-e544c994ef14"
      },
      "source": [
        "# Type solution here\n",
        "usrInputName = input(\"What is your name? \")\n",
        "count= len(usrInputName)-usrInputName.count(\" \")\n",
        "print(usrInputName + \" your name has \" + str(count) + \" characters.\")"
      ],
      "execution_count": null,
      "outputs": [
        {
          "output_type": "stream",
          "text": [
            "What is your name? Tommy Shen\n",
            "Tommy Shen your name has 9 characters.\n"
          ],
          "name": "stdout"
        }
      ]
    },
    {
      "cell_type": "markdown",
      "metadata": {
        "id": "5KHOWF6FhVHV"
      },
      "source": [
        "##### Q3. Write a program that prompts the user to enter a month (as a number), then prints the name of the month and the number of days in that month. Ensure that the user inputs a valid month and handle any error cases.\n",
        "\n",
        "```\n",
        "Enter the month number: 9\n",
        "September has 30 days\n",
        "```"
      ]
    },
    {
      "cell_type": "code",
      "metadata": {
        "id": "KhS-SAEThyTG",
        "colab": {
          "base_uri": "https://localhost:8080/"
        },
        "outputId": "84a8c461-d910-4e62-e7c6-62b904723d0d"
      },
      "source": [
        "userMonthInput = input(\"Enter the month number: \")\n",
        "monthsList = [\"January\", \"February\", \"March\", \"April\", \"May\", \"June\", \"July\", \"August\", \"September\", \"October\", \"November\", \"December\"]\n",
        "\n",
        "if userMonthInput == \"1\" or userMonthInput == \"3\" or userMonthInput == \"5\" or userMonthInput == \"7\" or userMonthInput == \"8\" or userMonthInput == \"10\" or userMonthInput == \"12\":\n",
        "  dy = \"31\"\n",
        "  mth = monthsList[int(userMonthInput)-1]\n",
        "  print(mth + \" has \" + dy + \" days\")\n",
        "elif userMonthInput == \"2\":\n",
        "  dy = \"28/29\"\n",
        "  mth = monthsList[int(userMonthInput)-1]\n",
        "  print(mth + \" has \" + dy + \" days\")\n",
        "elif userMonthInput == \"4\" or userMonthInput == \"6\" or userMonthInput == \"9\" or userMonthInput == \"11\":\n",
        "  dy = \"30\"\n",
        "  mth = monthsList[int(userMonthInput)-1]\n",
        "  print(mth + \" has \" + dy + \" days\")\n",
        "else:\n",
        "  print(\"Invalid input, please enter a number that is within the range of 1-12.\")"
      ],
      "execution_count": null,
      "outputs": [
        {
          "output_type": "stream",
          "text": [
            "Enter the month number: ddcsdsc (\n",
            "Invalid input, please enter a number that is within the range of 1-12.\n"
          ],
          "name": "stdout"
        }
      ]
    },
    {
      "cell_type": "markdown",
      "metadata": {
        "id": "O7lnAdGlh6Xa"
      },
      "source": [
        "##### Q4. Write a program that prompts the user to enter a loan amount, annual interest rate, and number of years  for a car loan. Then calculate and print the monthly payment amount.\n",
        "\n",
        "Note:\n",
        "```\n",
        "PMT= [PV*i*((1+i)^n)]/[((1+i)^n)-1]\n",
        "```\n",
        "PMT is the monthly payment\n",
        "\n",
        "PV is the loan amount\n",
        "\n",
        "i is the interest rate per month in decimal form (interest rate percentage divided by 12)\n",
        "\n",
        "n is the number of months (term of the loan in months)\n",
        "\n",
        "```\n",
        "Loan Amount: 30000.00\n",
        "Annual Interest Rate: 4.00\n",
        "Years: 5\n",
        "Your monthly payment is: $552.50\n",
        "```"
      ]
    },
    {
      "cell_type": "code",
      "metadata": {
        "id": "p4B5JH5GiTs9",
        "colab": {
          "base_uri": "https://localhost:8080/"
        },
        "outputId": "094240f1-8470-4459-bb24-fa02a4db771d"
      },
      "source": [
        "# Type solution here\n",
        "PV = float(input(\"Loan Amount: \"))\n",
        "interest = float(input(\"Annual Interest Rate: \"))\n",
        "i = interest/100/12\n",
        "years = float(input(\"Years: \"))\n",
        "n = years*12\n",
        "\n",
        "payment = (PV*i*((1+i)**n))/(((1+i)**n)-1)\n",
        "roundedPayment = round(payment, 2)\n",
        "\n",
        "print(\"Your monthly payment is: $\" + str(roundedPayment))\n",
        "\n"
      ],
      "execution_count": null,
      "outputs": [
        {
          "output_type": "stream",
          "text": [
            "Loan Amount: 30000.00\n",
            "Annual Interest Rate: 4.00\n",
            "Years: 5\n",
            "Your monthly payment is: $552.5\n"
          ],
          "name": "stdout"
        }
      ]
    },
    {
      "cell_type": "markdown",
      "metadata": {
        "id": "SjiolJKgiWV-"
      },
      "source": [
        "##### Q5. Write a program to that prompts the user to enter a string. Then check whether or not the string is a palindrome.\n",
        "\n",
        "```\n",
        "Enter a string: Madam\n",
        "Madam, is a palindrome!\n",
        "```"
      ]
    },
    {
      "cell_type": "code",
      "metadata": {
        "id": "F5_M934Ri0es",
        "colab": {
          "base_uri": "https://localhost:8080/",
          "height": 528
        },
        "outputId": "c0583bcd-8434-4dfe-bcd3-182ec6b30e9f"
      },
      "source": [
        "# Type solution here\n",
        "usrInputString= input(\"Enter a string: \")\n",
        "usrInputString = usrInputString.casefold()\n",
        "rev_str = reversed(usrInputString)\n",
        "if list(usrInputString) == list(rev_str):\n",
        "      print(\"The string is a palindrome.\")\n",
        "else:\n",
        "      print(\"The string is not a palindrome.\")"
      ],
      "execution_count": 12,
      "outputs": [
        {
          "output_type": "error",
          "ename": "KeyboardInterrupt",
          "evalue": "ignored",
          "traceback": [
            "\u001b[0;31m---------------------------------------------------------------------------\u001b[0m",
            "\u001b[0;31mKeyboardInterrupt\u001b[0m                         Traceback (most recent call last)",
            "\u001b[0;32m/usr/local/lib/python3.6/dist-packages/ipykernel/kernelbase.py\u001b[0m in \u001b[0;36m_input_request\u001b[0;34m(self, prompt, ident, parent, password)\u001b[0m\n\u001b[1;32m    728\u001b[0m             \u001b[0;32mtry\u001b[0m\u001b[0;34m:\u001b[0m\u001b[0;34m\u001b[0m\u001b[0;34m\u001b[0m\u001b[0m\n\u001b[0;32m--> 729\u001b[0;31m                 \u001b[0mident\u001b[0m\u001b[0;34m,\u001b[0m \u001b[0mreply\u001b[0m \u001b[0;34m=\u001b[0m \u001b[0mself\u001b[0m\u001b[0;34m.\u001b[0m\u001b[0msession\u001b[0m\u001b[0;34m.\u001b[0m\u001b[0mrecv\u001b[0m\u001b[0;34m(\u001b[0m\u001b[0mself\u001b[0m\u001b[0;34m.\u001b[0m\u001b[0mstdin_socket\u001b[0m\u001b[0;34m,\u001b[0m \u001b[0;36m0\u001b[0m\u001b[0;34m)\u001b[0m\u001b[0;34m\u001b[0m\u001b[0;34m\u001b[0m\u001b[0m\n\u001b[0m\u001b[1;32m    730\u001b[0m             \u001b[0;32mexcept\u001b[0m \u001b[0mException\u001b[0m\u001b[0;34m:\u001b[0m\u001b[0;34m\u001b[0m\u001b[0;34m\u001b[0m\u001b[0m\n",
            "\u001b[0;32m/usr/local/lib/python3.6/dist-packages/jupyter_client/session.py\u001b[0m in \u001b[0;36mrecv\u001b[0;34m(self, socket, mode, content, copy)\u001b[0m\n\u001b[1;32m    802\u001b[0m         \u001b[0;32mtry\u001b[0m\u001b[0;34m:\u001b[0m\u001b[0;34m\u001b[0m\u001b[0;34m\u001b[0m\u001b[0m\n\u001b[0;32m--> 803\u001b[0;31m             \u001b[0mmsg_list\u001b[0m \u001b[0;34m=\u001b[0m \u001b[0msocket\u001b[0m\u001b[0;34m.\u001b[0m\u001b[0mrecv_multipart\u001b[0m\u001b[0;34m(\u001b[0m\u001b[0mmode\u001b[0m\u001b[0;34m,\u001b[0m \u001b[0mcopy\u001b[0m\u001b[0;34m=\u001b[0m\u001b[0mcopy\u001b[0m\u001b[0;34m)\u001b[0m\u001b[0;34m\u001b[0m\u001b[0;34m\u001b[0m\u001b[0m\n\u001b[0m\u001b[1;32m    804\u001b[0m         \u001b[0;32mexcept\u001b[0m \u001b[0mzmq\u001b[0m\u001b[0;34m.\u001b[0m\u001b[0mZMQError\u001b[0m \u001b[0;32mas\u001b[0m \u001b[0me\u001b[0m\u001b[0;34m:\u001b[0m\u001b[0;34m\u001b[0m\u001b[0;34m\u001b[0m\u001b[0m\n",
            "\u001b[0;32m/usr/local/lib/python3.6/dist-packages/zmq/sugar/socket.py\u001b[0m in \u001b[0;36mrecv_multipart\u001b[0;34m(self, flags, copy, track)\u001b[0m\n\u001b[1;32m    582\u001b[0m         \"\"\"\n\u001b[0;32m--> 583\u001b[0;31m         \u001b[0mparts\u001b[0m \u001b[0;34m=\u001b[0m \u001b[0;34m[\u001b[0m\u001b[0mself\u001b[0m\u001b[0;34m.\u001b[0m\u001b[0mrecv\u001b[0m\u001b[0;34m(\u001b[0m\u001b[0mflags\u001b[0m\u001b[0;34m,\u001b[0m \u001b[0mcopy\u001b[0m\u001b[0;34m=\u001b[0m\u001b[0mcopy\u001b[0m\u001b[0;34m,\u001b[0m \u001b[0mtrack\u001b[0m\u001b[0;34m=\u001b[0m\u001b[0mtrack\u001b[0m\u001b[0;34m)\u001b[0m\u001b[0;34m]\u001b[0m\u001b[0;34m\u001b[0m\u001b[0;34m\u001b[0m\u001b[0m\n\u001b[0m\u001b[1;32m    584\u001b[0m         \u001b[0;31m# have first part already, only loop while more to receive\u001b[0m\u001b[0;34m\u001b[0m\u001b[0;34m\u001b[0m\u001b[0;34m\u001b[0m\u001b[0m\n",
            "\u001b[0;32mzmq/backend/cython/socket.pyx\u001b[0m in \u001b[0;36mzmq.backend.cython.socket.Socket.recv\u001b[0;34m()\u001b[0m\n",
            "\u001b[0;32mzmq/backend/cython/socket.pyx\u001b[0m in \u001b[0;36mzmq.backend.cython.socket.Socket.recv\u001b[0;34m()\u001b[0m\n",
            "\u001b[0;32mzmq/backend/cython/socket.pyx\u001b[0m in \u001b[0;36mzmq.backend.cython.socket._recv_copy\u001b[0;34m()\u001b[0m\n",
            "\u001b[0;32m/usr/local/lib/python3.6/dist-packages/zmq/backend/cython/checkrc.pxd\u001b[0m in \u001b[0;36mzmq.backend.cython.checkrc._check_rc\u001b[0;34m()\u001b[0m\n",
            "\u001b[0;31mKeyboardInterrupt\u001b[0m: ",
            "\nDuring handling of the above exception, another exception occurred:\n",
            "\u001b[0;31mKeyboardInterrupt\u001b[0m                         Traceback (most recent call last)",
            "\u001b[0;32m<ipython-input-12-30ca318fd2ef>\u001b[0m in \u001b[0;36m<module>\u001b[0;34m()\u001b[0m\n\u001b[1;32m      1\u001b[0m \u001b[0;31m# Type solution here\u001b[0m\u001b[0;34m\u001b[0m\u001b[0;34m\u001b[0m\u001b[0;34m\u001b[0m\u001b[0m\n\u001b[0;32m----> 2\u001b[0;31m \u001b[0musrInputString\u001b[0m\u001b[0;34m=\u001b[0m \u001b[0minput\u001b[0m\u001b[0;34m(\u001b[0m\u001b[0;34m\"Enter a string: \"\u001b[0m\u001b[0;34m)\u001b[0m\u001b[0;34m\u001b[0m\u001b[0;34m\u001b[0m\u001b[0m\n\u001b[0m\u001b[1;32m      3\u001b[0m \u001b[0musrInputString\u001b[0m \u001b[0;34m=\u001b[0m \u001b[0musrInputString\u001b[0m\u001b[0;34m.\u001b[0m\u001b[0mcasefold\u001b[0m\u001b[0;34m(\u001b[0m\u001b[0;34m)\u001b[0m\u001b[0;34m\u001b[0m\u001b[0;34m\u001b[0m\u001b[0m\n\u001b[1;32m      4\u001b[0m \u001b[0mrev_str\u001b[0m \u001b[0;34m=\u001b[0m \u001b[0mreversed\u001b[0m\u001b[0;34m(\u001b[0m\u001b[0musrInputString\u001b[0m\u001b[0;34m)\u001b[0m\u001b[0;34m\u001b[0m\u001b[0;34m\u001b[0m\u001b[0m\n\u001b[1;32m      5\u001b[0m \u001b[0;32mif\u001b[0m \u001b[0mlist\u001b[0m\u001b[0;34m(\u001b[0m\u001b[0musrInputString\u001b[0m\u001b[0;34m)\u001b[0m \u001b[0;34m==\u001b[0m \u001b[0mlist\u001b[0m\u001b[0;34m(\u001b[0m\u001b[0mrev_str\u001b[0m\u001b[0;34m)\u001b[0m\u001b[0;34m:\u001b[0m\u001b[0;34m\u001b[0m\u001b[0;34m\u001b[0m\u001b[0m\n",
            "\u001b[0;32m/usr/local/lib/python3.6/dist-packages/ipykernel/kernelbase.py\u001b[0m in \u001b[0;36mraw_input\u001b[0;34m(self, prompt)\u001b[0m\n\u001b[1;32m    702\u001b[0m             \u001b[0mself\u001b[0m\u001b[0;34m.\u001b[0m\u001b[0m_parent_ident\u001b[0m\u001b[0;34m,\u001b[0m\u001b[0;34m\u001b[0m\u001b[0;34m\u001b[0m\u001b[0m\n\u001b[1;32m    703\u001b[0m             \u001b[0mself\u001b[0m\u001b[0;34m.\u001b[0m\u001b[0m_parent_header\u001b[0m\u001b[0;34m,\u001b[0m\u001b[0;34m\u001b[0m\u001b[0;34m\u001b[0m\u001b[0m\n\u001b[0;32m--> 704\u001b[0;31m             \u001b[0mpassword\u001b[0m\u001b[0;34m=\u001b[0m\u001b[0;32mFalse\u001b[0m\u001b[0;34m,\u001b[0m\u001b[0;34m\u001b[0m\u001b[0;34m\u001b[0m\u001b[0m\n\u001b[0m\u001b[1;32m    705\u001b[0m         )\n\u001b[1;32m    706\u001b[0m \u001b[0;34m\u001b[0m\u001b[0m\n",
            "\u001b[0;32m/usr/local/lib/python3.6/dist-packages/ipykernel/kernelbase.py\u001b[0m in \u001b[0;36m_input_request\u001b[0;34m(self, prompt, ident, parent, password)\u001b[0m\n\u001b[1;32m    732\u001b[0m             \u001b[0;32mexcept\u001b[0m \u001b[0mKeyboardInterrupt\u001b[0m\u001b[0;34m:\u001b[0m\u001b[0;34m\u001b[0m\u001b[0;34m\u001b[0m\u001b[0m\n\u001b[1;32m    733\u001b[0m                 \u001b[0;31m# re-raise KeyboardInterrupt, to truncate traceback\u001b[0m\u001b[0;34m\u001b[0m\u001b[0;34m\u001b[0m\u001b[0;34m\u001b[0m\u001b[0m\n\u001b[0;32m--> 734\u001b[0;31m                 \u001b[0;32mraise\u001b[0m \u001b[0mKeyboardInterrupt\u001b[0m\u001b[0;34m\u001b[0m\u001b[0;34m\u001b[0m\u001b[0m\n\u001b[0m\u001b[1;32m    735\u001b[0m             \u001b[0;32melse\u001b[0m\u001b[0;34m:\u001b[0m\u001b[0;34m\u001b[0m\u001b[0;34m\u001b[0m\u001b[0m\n\u001b[1;32m    736\u001b[0m                 \u001b[0;32mbreak\u001b[0m\u001b[0;34m\u001b[0m\u001b[0;34m\u001b[0m\u001b[0m\n",
            "\u001b[0;31mKeyboardInterrupt\u001b[0m: "
          ]
        }
      ]
    },
    {
      "cell_type": "markdown",
      "metadata": {
        "id": "BLBD6n9vkJEu"
      },
      "source": [
        "##### Q6. Write a program to compute and print all possible combinations of change for \\$1. Denominations to be considered – quarter, dime, nickel, penny.\n",
        "\n",
        "Hint: Use nested loops (loops within loops for the various denominations of coins)\n",
        "\n",
        "```\n",
        "Change for $1:\n",
        "0 quarters, 0 dimes, 0 nickels, 100 pennies\n",
        "…\n",
        "4 quarters, 0 dimes, 0 nickels, 0 pennies\n",
        "```"
      ]
    },
    {
      "cell_type": "code",
      "metadata": {
        "id": "kAQsTjwDkZZ5",
        "colab": {
          "base_uri": "https://localhost:8080/"
        },
        "outputId": "89e3e675-8981-4054-cd97-18b50e45eb53"
      },
      "source": [
        "# Type solution here\n",
        "print(\"Change for $1 \")\n",
        "for quat in range(0,5): \n",
        "  for dme in range(0,11): \n",
        "    for Ni in range(0,21): \n",
        "      for Pen in range(0,101): \n",
        "        if(25*quat + 10*dme + 5*Ni + Pen==100):\n",
        "          print(quat,\"quarters, \",dme,\"dimes, \",Ni,\"nickels, \",Pen,\"pennies.\" )"
      ],
      "execution_count": null,
      "outputs": [
        {
          "output_type": "stream",
          "text": [
            "Change for $1 \n",
            "0 quarters,  0 dimes,  0 nickels,  100 pennies.\n",
            "0 quarters,  0 dimes,  1 nickels,  95 pennies.\n",
            "0 quarters,  0 dimes,  2 nickels,  90 pennies.\n",
            "0 quarters,  0 dimes,  3 nickels,  85 pennies.\n",
            "0 quarters,  0 dimes,  4 nickels,  80 pennies.\n",
            "0 quarters,  0 dimes,  5 nickels,  75 pennies.\n",
            "0 quarters,  0 dimes,  6 nickels,  70 pennies.\n",
            "0 quarters,  0 dimes,  7 nickels,  65 pennies.\n",
            "0 quarters,  0 dimes,  8 nickels,  60 pennies.\n",
            "0 quarters,  0 dimes,  9 nickels,  55 pennies.\n",
            "0 quarters,  0 dimes,  10 nickels,  50 pennies.\n",
            "0 quarters,  0 dimes,  11 nickels,  45 pennies.\n",
            "0 quarters,  0 dimes,  12 nickels,  40 pennies.\n",
            "0 quarters,  0 dimes,  13 nickels,  35 pennies.\n",
            "0 quarters,  0 dimes,  14 nickels,  30 pennies.\n",
            "0 quarters,  0 dimes,  15 nickels,  25 pennies.\n",
            "0 quarters,  0 dimes,  16 nickels,  20 pennies.\n",
            "0 quarters,  0 dimes,  17 nickels,  15 pennies.\n",
            "0 quarters,  0 dimes,  18 nickels,  10 pennies.\n",
            "0 quarters,  0 dimes,  19 nickels,  5 pennies.\n",
            "0 quarters,  0 dimes,  20 nickels,  0 pennies.\n",
            "0 quarters,  1 dimes,  0 nickels,  90 pennies.\n",
            "0 quarters,  1 dimes,  1 nickels,  85 pennies.\n",
            "0 quarters,  1 dimes,  2 nickels,  80 pennies.\n",
            "0 quarters,  1 dimes,  3 nickels,  75 pennies.\n",
            "0 quarters,  1 dimes,  4 nickels,  70 pennies.\n",
            "0 quarters,  1 dimes,  5 nickels,  65 pennies.\n",
            "0 quarters,  1 dimes,  6 nickels,  60 pennies.\n",
            "0 quarters,  1 dimes,  7 nickels,  55 pennies.\n",
            "0 quarters,  1 dimes,  8 nickels,  50 pennies.\n",
            "0 quarters,  1 dimes,  9 nickels,  45 pennies.\n",
            "0 quarters,  1 dimes,  10 nickels,  40 pennies.\n",
            "0 quarters,  1 dimes,  11 nickels,  35 pennies.\n",
            "0 quarters,  1 dimes,  12 nickels,  30 pennies.\n",
            "0 quarters,  1 dimes,  13 nickels,  25 pennies.\n",
            "0 quarters,  1 dimes,  14 nickels,  20 pennies.\n",
            "0 quarters,  1 dimes,  15 nickels,  15 pennies.\n",
            "0 quarters,  1 dimes,  16 nickels,  10 pennies.\n",
            "0 quarters,  1 dimes,  17 nickels,  5 pennies.\n",
            "0 quarters,  1 dimes,  18 nickels,  0 pennies.\n",
            "0 quarters,  2 dimes,  0 nickels,  80 pennies.\n",
            "0 quarters,  2 dimes,  1 nickels,  75 pennies.\n",
            "0 quarters,  2 dimes,  2 nickels,  70 pennies.\n",
            "0 quarters,  2 dimes,  3 nickels,  65 pennies.\n",
            "0 quarters,  2 dimes,  4 nickels,  60 pennies.\n",
            "0 quarters,  2 dimes,  5 nickels,  55 pennies.\n",
            "0 quarters,  2 dimes,  6 nickels,  50 pennies.\n",
            "0 quarters,  2 dimes,  7 nickels,  45 pennies.\n",
            "0 quarters,  2 dimes,  8 nickels,  40 pennies.\n",
            "0 quarters,  2 dimes,  9 nickels,  35 pennies.\n",
            "0 quarters,  2 dimes,  10 nickels,  30 pennies.\n",
            "0 quarters,  2 dimes,  11 nickels,  25 pennies.\n",
            "0 quarters,  2 dimes,  12 nickels,  20 pennies.\n",
            "0 quarters,  2 dimes,  13 nickels,  15 pennies.\n",
            "0 quarters,  2 dimes,  14 nickels,  10 pennies.\n",
            "0 quarters,  2 dimes,  15 nickels,  5 pennies.\n",
            "0 quarters,  2 dimes,  16 nickels,  0 pennies.\n",
            "0 quarters,  3 dimes,  0 nickels,  70 pennies.\n",
            "0 quarters,  3 dimes,  1 nickels,  65 pennies.\n",
            "0 quarters,  3 dimes,  2 nickels,  60 pennies.\n",
            "0 quarters,  3 dimes,  3 nickels,  55 pennies.\n",
            "0 quarters,  3 dimes,  4 nickels,  50 pennies.\n",
            "0 quarters,  3 dimes,  5 nickels,  45 pennies.\n",
            "0 quarters,  3 dimes,  6 nickels,  40 pennies.\n",
            "0 quarters,  3 dimes,  7 nickels,  35 pennies.\n",
            "0 quarters,  3 dimes,  8 nickels,  30 pennies.\n",
            "0 quarters,  3 dimes,  9 nickels,  25 pennies.\n",
            "0 quarters,  3 dimes,  10 nickels,  20 pennies.\n",
            "0 quarters,  3 dimes,  11 nickels,  15 pennies.\n",
            "0 quarters,  3 dimes,  12 nickels,  10 pennies.\n",
            "0 quarters,  3 dimes,  13 nickels,  5 pennies.\n",
            "0 quarters,  3 dimes,  14 nickels,  0 pennies.\n",
            "0 quarters,  4 dimes,  0 nickels,  60 pennies.\n",
            "0 quarters,  4 dimes,  1 nickels,  55 pennies.\n",
            "0 quarters,  4 dimes,  2 nickels,  50 pennies.\n",
            "0 quarters,  4 dimes,  3 nickels,  45 pennies.\n",
            "0 quarters,  4 dimes,  4 nickels,  40 pennies.\n",
            "0 quarters,  4 dimes,  5 nickels,  35 pennies.\n",
            "0 quarters,  4 dimes,  6 nickels,  30 pennies.\n",
            "0 quarters,  4 dimes,  7 nickels,  25 pennies.\n",
            "0 quarters,  4 dimes,  8 nickels,  20 pennies.\n",
            "0 quarters,  4 dimes,  9 nickels,  15 pennies.\n",
            "0 quarters,  4 dimes,  10 nickels,  10 pennies.\n",
            "0 quarters,  4 dimes,  11 nickels,  5 pennies.\n",
            "0 quarters,  4 dimes,  12 nickels,  0 pennies.\n",
            "0 quarters,  5 dimes,  0 nickels,  50 pennies.\n",
            "0 quarters,  5 dimes,  1 nickels,  45 pennies.\n",
            "0 quarters,  5 dimes,  2 nickels,  40 pennies.\n",
            "0 quarters,  5 dimes,  3 nickels,  35 pennies.\n",
            "0 quarters,  5 dimes,  4 nickels,  30 pennies.\n",
            "0 quarters,  5 dimes,  5 nickels,  25 pennies.\n",
            "0 quarters,  5 dimes,  6 nickels,  20 pennies.\n",
            "0 quarters,  5 dimes,  7 nickels,  15 pennies.\n",
            "0 quarters,  5 dimes,  8 nickels,  10 pennies.\n",
            "0 quarters,  5 dimes,  9 nickels,  5 pennies.\n",
            "0 quarters,  5 dimes,  10 nickels,  0 pennies.\n",
            "0 quarters,  6 dimes,  0 nickels,  40 pennies.\n",
            "0 quarters,  6 dimes,  1 nickels,  35 pennies.\n",
            "0 quarters,  6 dimes,  2 nickels,  30 pennies.\n",
            "0 quarters,  6 dimes,  3 nickels,  25 pennies.\n",
            "0 quarters,  6 dimes,  4 nickels,  20 pennies.\n",
            "0 quarters,  6 dimes,  5 nickels,  15 pennies.\n",
            "0 quarters,  6 dimes,  6 nickels,  10 pennies.\n",
            "0 quarters,  6 dimes,  7 nickels,  5 pennies.\n",
            "0 quarters,  6 dimes,  8 nickels,  0 pennies.\n",
            "0 quarters,  7 dimes,  0 nickels,  30 pennies.\n",
            "0 quarters,  7 dimes,  1 nickels,  25 pennies.\n",
            "0 quarters,  7 dimes,  2 nickels,  20 pennies.\n",
            "0 quarters,  7 dimes,  3 nickels,  15 pennies.\n",
            "0 quarters,  7 dimes,  4 nickels,  10 pennies.\n",
            "0 quarters,  7 dimes,  5 nickels,  5 pennies.\n",
            "0 quarters,  7 dimes,  6 nickels,  0 pennies.\n",
            "0 quarters,  8 dimes,  0 nickels,  20 pennies.\n",
            "0 quarters,  8 dimes,  1 nickels,  15 pennies.\n",
            "0 quarters,  8 dimes,  2 nickels,  10 pennies.\n",
            "0 quarters,  8 dimes,  3 nickels,  5 pennies.\n",
            "0 quarters,  8 dimes,  4 nickels,  0 pennies.\n",
            "0 quarters,  9 dimes,  0 nickels,  10 pennies.\n",
            "0 quarters,  9 dimes,  1 nickels,  5 pennies.\n",
            "0 quarters,  9 dimes,  2 nickels,  0 pennies.\n",
            "0 quarters,  10 dimes,  0 nickels,  0 pennies.\n",
            "1 quarters,  0 dimes,  0 nickels,  75 pennies.\n",
            "1 quarters,  0 dimes,  1 nickels,  70 pennies.\n",
            "1 quarters,  0 dimes,  2 nickels,  65 pennies.\n",
            "1 quarters,  0 dimes,  3 nickels,  60 pennies.\n",
            "1 quarters,  0 dimes,  4 nickels,  55 pennies.\n",
            "1 quarters,  0 dimes,  5 nickels,  50 pennies.\n",
            "1 quarters,  0 dimes,  6 nickels,  45 pennies.\n",
            "1 quarters,  0 dimes,  7 nickels,  40 pennies.\n",
            "1 quarters,  0 dimes,  8 nickels,  35 pennies.\n",
            "1 quarters,  0 dimes,  9 nickels,  30 pennies.\n",
            "1 quarters,  0 dimes,  10 nickels,  25 pennies.\n",
            "1 quarters,  0 dimes,  11 nickels,  20 pennies.\n",
            "1 quarters,  0 dimes,  12 nickels,  15 pennies.\n",
            "1 quarters,  0 dimes,  13 nickels,  10 pennies.\n",
            "1 quarters,  0 dimes,  14 nickels,  5 pennies.\n",
            "1 quarters,  0 dimes,  15 nickels,  0 pennies.\n",
            "1 quarters,  1 dimes,  0 nickels,  65 pennies.\n",
            "1 quarters,  1 dimes,  1 nickels,  60 pennies.\n",
            "1 quarters,  1 dimes,  2 nickels,  55 pennies.\n",
            "1 quarters,  1 dimes,  3 nickels,  50 pennies.\n",
            "1 quarters,  1 dimes,  4 nickels,  45 pennies.\n",
            "1 quarters,  1 dimes,  5 nickels,  40 pennies.\n",
            "1 quarters,  1 dimes,  6 nickels,  35 pennies.\n",
            "1 quarters,  1 dimes,  7 nickels,  30 pennies.\n",
            "1 quarters,  1 dimes,  8 nickels,  25 pennies.\n",
            "1 quarters,  1 dimes,  9 nickels,  20 pennies.\n",
            "1 quarters,  1 dimes,  10 nickels,  15 pennies.\n",
            "1 quarters,  1 dimes,  11 nickels,  10 pennies.\n",
            "1 quarters,  1 dimes,  12 nickels,  5 pennies.\n",
            "1 quarters,  1 dimes,  13 nickels,  0 pennies.\n",
            "1 quarters,  2 dimes,  0 nickels,  55 pennies.\n",
            "1 quarters,  2 dimes,  1 nickels,  50 pennies.\n",
            "1 quarters,  2 dimes,  2 nickels,  45 pennies.\n",
            "1 quarters,  2 dimes,  3 nickels,  40 pennies.\n",
            "1 quarters,  2 dimes,  4 nickels,  35 pennies.\n",
            "1 quarters,  2 dimes,  5 nickels,  30 pennies.\n",
            "1 quarters,  2 dimes,  6 nickels,  25 pennies.\n",
            "1 quarters,  2 dimes,  7 nickels,  20 pennies.\n",
            "1 quarters,  2 dimes,  8 nickels,  15 pennies.\n",
            "1 quarters,  2 dimes,  9 nickels,  10 pennies.\n",
            "1 quarters,  2 dimes,  10 nickels,  5 pennies.\n",
            "1 quarters,  2 dimes,  11 nickels,  0 pennies.\n",
            "1 quarters,  3 dimes,  0 nickels,  45 pennies.\n",
            "1 quarters,  3 dimes,  1 nickels,  40 pennies.\n",
            "1 quarters,  3 dimes,  2 nickels,  35 pennies.\n",
            "1 quarters,  3 dimes,  3 nickels,  30 pennies.\n",
            "1 quarters,  3 dimes,  4 nickels,  25 pennies.\n",
            "1 quarters,  3 dimes,  5 nickels,  20 pennies.\n",
            "1 quarters,  3 dimes,  6 nickels,  15 pennies.\n",
            "1 quarters,  3 dimes,  7 nickels,  10 pennies.\n",
            "1 quarters,  3 dimes,  8 nickels,  5 pennies.\n",
            "1 quarters,  3 dimes,  9 nickels,  0 pennies.\n",
            "1 quarters,  4 dimes,  0 nickels,  35 pennies.\n",
            "1 quarters,  4 dimes,  1 nickels,  30 pennies.\n",
            "1 quarters,  4 dimes,  2 nickels,  25 pennies.\n",
            "1 quarters,  4 dimes,  3 nickels,  20 pennies.\n",
            "1 quarters,  4 dimes,  4 nickels,  15 pennies.\n",
            "1 quarters,  4 dimes,  5 nickels,  10 pennies.\n",
            "1 quarters,  4 dimes,  6 nickels,  5 pennies.\n",
            "1 quarters,  4 dimes,  7 nickels,  0 pennies.\n",
            "1 quarters,  5 dimes,  0 nickels,  25 pennies.\n",
            "1 quarters,  5 dimes,  1 nickels,  20 pennies.\n",
            "1 quarters,  5 dimes,  2 nickels,  15 pennies.\n",
            "1 quarters,  5 dimes,  3 nickels,  10 pennies.\n",
            "1 quarters,  5 dimes,  4 nickels,  5 pennies.\n",
            "1 quarters,  5 dimes,  5 nickels,  0 pennies.\n",
            "1 quarters,  6 dimes,  0 nickels,  15 pennies.\n",
            "1 quarters,  6 dimes,  1 nickels,  10 pennies.\n",
            "1 quarters,  6 dimes,  2 nickels,  5 pennies.\n",
            "1 quarters,  6 dimes,  3 nickels,  0 pennies.\n",
            "1 quarters,  7 dimes,  0 nickels,  5 pennies.\n",
            "1 quarters,  7 dimes,  1 nickels,  0 pennies.\n",
            "2 quarters,  0 dimes,  0 nickels,  50 pennies.\n",
            "2 quarters,  0 dimes,  1 nickels,  45 pennies.\n",
            "2 quarters,  0 dimes,  2 nickels,  40 pennies.\n",
            "2 quarters,  0 dimes,  3 nickels,  35 pennies.\n",
            "2 quarters,  0 dimes,  4 nickels,  30 pennies.\n",
            "2 quarters,  0 dimes,  5 nickels,  25 pennies.\n",
            "2 quarters,  0 dimes,  6 nickels,  20 pennies.\n",
            "2 quarters,  0 dimes,  7 nickels,  15 pennies.\n",
            "2 quarters,  0 dimes,  8 nickels,  10 pennies.\n",
            "2 quarters,  0 dimes,  9 nickels,  5 pennies.\n",
            "2 quarters,  0 dimes,  10 nickels,  0 pennies.\n",
            "2 quarters,  1 dimes,  0 nickels,  40 pennies.\n",
            "2 quarters,  1 dimes,  1 nickels,  35 pennies.\n",
            "2 quarters,  1 dimes,  2 nickels,  30 pennies.\n",
            "2 quarters,  1 dimes,  3 nickels,  25 pennies.\n",
            "2 quarters,  1 dimes,  4 nickels,  20 pennies.\n",
            "2 quarters,  1 dimes,  5 nickels,  15 pennies.\n",
            "2 quarters,  1 dimes,  6 nickels,  10 pennies.\n",
            "2 quarters,  1 dimes,  7 nickels,  5 pennies.\n",
            "2 quarters,  1 dimes,  8 nickels,  0 pennies.\n",
            "2 quarters,  2 dimes,  0 nickels,  30 pennies.\n",
            "2 quarters,  2 dimes,  1 nickels,  25 pennies.\n",
            "2 quarters,  2 dimes,  2 nickels,  20 pennies.\n",
            "2 quarters,  2 dimes,  3 nickels,  15 pennies.\n",
            "2 quarters,  2 dimes,  4 nickels,  10 pennies.\n",
            "2 quarters,  2 dimes,  5 nickels,  5 pennies.\n",
            "2 quarters,  2 dimes,  6 nickels,  0 pennies.\n",
            "2 quarters,  3 dimes,  0 nickels,  20 pennies.\n",
            "2 quarters,  3 dimes,  1 nickels,  15 pennies.\n",
            "2 quarters,  3 dimes,  2 nickels,  10 pennies.\n",
            "2 quarters,  3 dimes,  3 nickels,  5 pennies.\n",
            "2 quarters,  3 dimes,  4 nickels,  0 pennies.\n",
            "2 quarters,  4 dimes,  0 nickels,  10 pennies.\n",
            "2 quarters,  4 dimes,  1 nickels,  5 pennies.\n",
            "2 quarters,  4 dimes,  2 nickels,  0 pennies.\n",
            "2 quarters,  5 dimes,  0 nickels,  0 pennies.\n",
            "3 quarters,  0 dimes,  0 nickels,  25 pennies.\n",
            "3 quarters,  0 dimes,  1 nickels,  20 pennies.\n",
            "3 quarters,  0 dimes,  2 nickels,  15 pennies.\n",
            "3 quarters,  0 dimes,  3 nickels,  10 pennies.\n",
            "3 quarters,  0 dimes,  4 nickels,  5 pennies.\n",
            "3 quarters,  0 dimes,  5 nickels,  0 pennies.\n",
            "3 quarters,  1 dimes,  0 nickels,  15 pennies.\n",
            "3 quarters,  1 dimes,  1 nickels,  10 pennies.\n",
            "3 quarters,  1 dimes,  2 nickels,  5 pennies.\n",
            "3 quarters,  1 dimes,  3 nickels,  0 pennies.\n",
            "3 quarters,  2 dimes,  0 nickels,  5 pennies.\n",
            "3 quarters,  2 dimes,  1 nickels,  0 pennies.\n",
            "4 quarters,  0 dimes,  0 nickels,  0 pennies.\n"
          ],
          "name": "stdout"
        }
      ]
    },
    {
      "cell_type": "markdown",
      "metadata": {
        "id": "rUPDjYiIkbgs"
      },
      "source": [
        "##### Q7. Ask the user to enter two positive integers between 1 and 100. Read those integers. Then output a multiplication table of the first number times the second number. \n",
        "\n",
        "Note: You have to ensure the entered numbers are between 1 and 100 only.\n",
        "\n",
        "```\n",
        "Please enter an integer: 5\n",
        "Please enter another integer: 20\n",
        "5 x 1 = 5\n",
        "5 x 2 = 10\n",
        "5 x 3 = 15\n",
        "…\n",
        "5 x 20 = 100\n",
        "```"
      ]
    },
    {
      "cell_type": "code",
      "metadata": {
        "id": "Qg0Orv1klHzA",
        "colab": {
          "base_uri": "https://localhost:8080/"
        },
        "outputId": "3005c242-546d-44dd-f9a8-6b1b6b532aaf"
      },
      "source": [
        "# Type solution here\n",
        "# Type solution here, do error checking\n",
        "a = input(\"Please enter an integer: \")\n",
        "b = input(\"Please enter another integer: \")\n",
        "\n",
        "if a.isdigit() and b.isdigit():\n",
        "  if int(a) in range(1,101) and int(b) in range(1,101):\n",
        "    for i in range(1,int(b)+1):\n",
        "      print(a,\"x\",i,\"=\",int(a)*i)\n",
        "  else: \n",
        "    print(\"Please enter a number between 1 and 100.\")\n",
        "else:\n",
        "  print(\"Please enter a number, no other variables!\")\n",
        "\n"
      ],
      "execution_count": 19,
      "outputs": [
        {
          "output_type": "stream",
          "text": [
            "Please enter an integer: 3\n",
            "Please enter another integer: 4\n",
            "3 x 1 = 3\n",
            "3 x 2 = 6\n",
            "3 x 3 = 9\n",
            "3 x 4 = 12\n"
          ],
          "name": "stdout"
        }
      ]
    },
    {
      "cell_type": "markdown",
      "metadata": {
        "id": "SbnbPUPTlLD9"
      },
      "source": [
        "##### Q8. Write a program to ask the user to enter a password. Then check to see if it is a valid password based on these requirements -\n",
        "\n",
        "Must be at least 8 characters long\n",
        "\n",
        "Must contain both uppercase and lowercase letters\n",
        "\n",
        "Must contain at least one number between 0-9\n",
        "\n",
        "Must contain a special character -!,@,#,$\n",
        "\n",
        "If the password is not valid, ask the user to re-enter. This should continue until the user enters a valid password. After a valid password is entered, print Access Granted!\n",
        "\n",
        "```\n",
        "Please enter a password. Follow these requirements - \n",
        "a. Must be at least 8 characters long\n",
        "b. Must contain both uppercase and lowercase letters\n",
        "c. Must contain at least one number between 0-9\n",
        "d. Must contain a special character -!,@,#,$\n",
        "Password: HelloWorld1\n",
        "Invalid password. Try again!\n",
        "Password: Hello@World1\n",
        "Access Granted!\n",
        "```\n"
      ]
    },
    {
      "cell_type": "code",
      "metadata": {
        "id": "OXmZ177Rl-RV",
        "colab": {
          "base_uri": "https://localhost:8080/",
          "height": 528
        },
        "outputId": "229cb027-fd9b-4ea7-8bff-bdd65cf42f46"
      },
      "source": [
        "# Type solution here\n",
        "while(True): \n",
        "  password=input(\"Enter a valid password : \")\n",
        "  if(len(password)<8):\n",
        "    print(\"Invalid Password. Try again.\")\n",
        "    print(\"The password must be at least 8 characters long.\")\n",
        "  elif not any(s.isupper() for s in password): \n",
        "    print(\"Invalid Password. Try again.\")\n",
        "    print(\"The password must contain at least one uppercase letter.\")\n",
        "  elif not any(s.islower() for s in password): \n",
        "    print(\"Invalid Password. Try again.\")\n",
        "    print(\"The password must contain at least one lowercase letter.\")\n",
        "  elif not any(s.isdigit() for s in password): \n",
        "    print(\"Invalid Password. Try again.\")\n",
        "    print(\"The password must contain at least one digit.\")\n",
        "  elif not any(not s.isalnum() for s in password): \n",
        "    print(\"Invalid Password. Try again.\")\n",
        "    print(\"The password must contain at least one special character.\")\n",
        "  else: \n",
        "    print(\"Access granted!\")\n",
        "break   "
      ],
      "execution_count": null,
      "outputs": [
        {
          "output_type": "error",
          "ename": "KeyboardInterrupt",
          "evalue": "ignored",
          "traceback": [
            "\u001b[0;31m---------------------------------------------------------------------------\u001b[0m",
            "\u001b[0;31mKeyboardInterrupt\u001b[0m                         Traceback (most recent call last)",
            "\u001b[0;32m/usr/local/lib/python3.6/dist-packages/ipykernel/kernelbase.py\u001b[0m in \u001b[0;36m_input_request\u001b[0;34m(self, prompt, ident, parent, password)\u001b[0m\n\u001b[1;32m    728\u001b[0m             \u001b[0;32mtry\u001b[0m\u001b[0;34m:\u001b[0m\u001b[0;34m\u001b[0m\u001b[0;34m\u001b[0m\u001b[0m\n\u001b[0;32m--> 729\u001b[0;31m                 \u001b[0mident\u001b[0m\u001b[0;34m,\u001b[0m \u001b[0mreply\u001b[0m \u001b[0;34m=\u001b[0m \u001b[0mself\u001b[0m\u001b[0;34m.\u001b[0m\u001b[0msession\u001b[0m\u001b[0;34m.\u001b[0m\u001b[0mrecv\u001b[0m\u001b[0;34m(\u001b[0m\u001b[0mself\u001b[0m\u001b[0;34m.\u001b[0m\u001b[0mstdin_socket\u001b[0m\u001b[0;34m,\u001b[0m \u001b[0;36m0\u001b[0m\u001b[0;34m)\u001b[0m\u001b[0;34m\u001b[0m\u001b[0;34m\u001b[0m\u001b[0m\n\u001b[0m\u001b[1;32m    730\u001b[0m             \u001b[0;32mexcept\u001b[0m \u001b[0mException\u001b[0m\u001b[0;34m:\u001b[0m\u001b[0;34m\u001b[0m\u001b[0;34m\u001b[0m\u001b[0m\n",
            "\u001b[0;32m/usr/local/lib/python3.6/dist-packages/jupyter_client/session.py\u001b[0m in \u001b[0;36mrecv\u001b[0;34m(self, socket, mode, content, copy)\u001b[0m\n\u001b[1;32m    802\u001b[0m         \u001b[0;32mtry\u001b[0m\u001b[0;34m:\u001b[0m\u001b[0;34m\u001b[0m\u001b[0;34m\u001b[0m\u001b[0m\n\u001b[0;32m--> 803\u001b[0;31m             \u001b[0mmsg_list\u001b[0m \u001b[0;34m=\u001b[0m \u001b[0msocket\u001b[0m\u001b[0;34m.\u001b[0m\u001b[0mrecv_multipart\u001b[0m\u001b[0;34m(\u001b[0m\u001b[0mmode\u001b[0m\u001b[0;34m,\u001b[0m \u001b[0mcopy\u001b[0m\u001b[0;34m=\u001b[0m\u001b[0mcopy\u001b[0m\u001b[0;34m)\u001b[0m\u001b[0;34m\u001b[0m\u001b[0;34m\u001b[0m\u001b[0m\n\u001b[0m\u001b[1;32m    804\u001b[0m         \u001b[0;32mexcept\u001b[0m \u001b[0mzmq\u001b[0m\u001b[0;34m.\u001b[0m\u001b[0mZMQError\u001b[0m \u001b[0;32mas\u001b[0m \u001b[0me\u001b[0m\u001b[0;34m:\u001b[0m\u001b[0;34m\u001b[0m\u001b[0;34m\u001b[0m\u001b[0m\n",
            "\u001b[0;32m/usr/local/lib/python3.6/dist-packages/zmq/sugar/socket.py\u001b[0m in \u001b[0;36mrecv_multipart\u001b[0;34m(self, flags, copy, track)\u001b[0m\n\u001b[1;32m    582\u001b[0m         \"\"\"\n\u001b[0;32m--> 583\u001b[0;31m         \u001b[0mparts\u001b[0m \u001b[0;34m=\u001b[0m \u001b[0;34m[\u001b[0m\u001b[0mself\u001b[0m\u001b[0;34m.\u001b[0m\u001b[0mrecv\u001b[0m\u001b[0;34m(\u001b[0m\u001b[0mflags\u001b[0m\u001b[0;34m,\u001b[0m \u001b[0mcopy\u001b[0m\u001b[0;34m=\u001b[0m\u001b[0mcopy\u001b[0m\u001b[0;34m,\u001b[0m \u001b[0mtrack\u001b[0m\u001b[0;34m=\u001b[0m\u001b[0mtrack\u001b[0m\u001b[0;34m)\u001b[0m\u001b[0;34m]\u001b[0m\u001b[0;34m\u001b[0m\u001b[0;34m\u001b[0m\u001b[0m\n\u001b[0m\u001b[1;32m    584\u001b[0m         \u001b[0;31m# have first part already, only loop while more to receive\u001b[0m\u001b[0;34m\u001b[0m\u001b[0;34m\u001b[0m\u001b[0;34m\u001b[0m\u001b[0m\n",
            "\u001b[0;32mzmq/backend/cython/socket.pyx\u001b[0m in \u001b[0;36mzmq.backend.cython.socket.Socket.recv\u001b[0;34m()\u001b[0m\n",
            "\u001b[0;32mzmq/backend/cython/socket.pyx\u001b[0m in \u001b[0;36mzmq.backend.cython.socket.Socket.recv\u001b[0;34m()\u001b[0m\n",
            "\u001b[0;32mzmq/backend/cython/socket.pyx\u001b[0m in \u001b[0;36mzmq.backend.cython.socket._recv_copy\u001b[0;34m()\u001b[0m\n",
            "\u001b[0;32m/usr/local/lib/python3.6/dist-packages/zmq/backend/cython/checkrc.pxd\u001b[0m in \u001b[0;36mzmq.backend.cython.checkrc._check_rc\u001b[0;34m()\u001b[0m\n",
            "\u001b[0;31mKeyboardInterrupt\u001b[0m: ",
            "\nDuring handling of the above exception, another exception occurred:\n",
            "\u001b[0;31mKeyboardInterrupt\u001b[0m                         Traceback (most recent call last)",
            "\u001b[0;32m<ipython-input-3-4d4909fe3a17>\u001b[0m in \u001b[0;36m<module>\u001b[0;34m()\u001b[0m\n\u001b[1;32m      1\u001b[0m \u001b[0;31m# Type solution here\u001b[0m\u001b[0;34m\u001b[0m\u001b[0;34m\u001b[0m\u001b[0;34m\u001b[0m\u001b[0m\n\u001b[1;32m      2\u001b[0m \u001b[0;32mwhile\u001b[0m\u001b[0;34m(\u001b[0m\u001b[0;32mTrue\u001b[0m\u001b[0;34m)\u001b[0m\u001b[0;34m:\u001b[0m\u001b[0;34m\u001b[0m\u001b[0;34m\u001b[0m\u001b[0m\n\u001b[0;32m----> 3\u001b[0;31m   \u001b[0mpassword\u001b[0m\u001b[0;34m=\u001b[0m\u001b[0minput\u001b[0m\u001b[0;34m(\u001b[0m\u001b[0;34m\"Enter a valid password : \"\u001b[0m\u001b[0;34m)\u001b[0m\u001b[0;34m\u001b[0m\u001b[0;34m\u001b[0m\u001b[0m\n\u001b[0m\u001b[1;32m      4\u001b[0m   \u001b[0;32mif\u001b[0m\u001b[0;34m(\u001b[0m\u001b[0mlen\u001b[0m\u001b[0;34m(\u001b[0m\u001b[0mpassword\u001b[0m\u001b[0;34m)\u001b[0m\u001b[0;34m<\u001b[0m\u001b[0;36m8\u001b[0m\u001b[0;34m)\u001b[0m\u001b[0;34m:\u001b[0m\u001b[0;34m\u001b[0m\u001b[0;34m\u001b[0m\u001b[0m\n\u001b[1;32m      5\u001b[0m     \u001b[0mprint\u001b[0m\u001b[0;34m(\u001b[0m\u001b[0;34m\"Invalid Password. Try again.\"\u001b[0m\u001b[0;34m)\u001b[0m\u001b[0;34m\u001b[0m\u001b[0;34m\u001b[0m\u001b[0m\n",
            "\u001b[0;32m/usr/local/lib/python3.6/dist-packages/ipykernel/kernelbase.py\u001b[0m in \u001b[0;36mraw_input\u001b[0;34m(self, prompt)\u001b[0m\n\u001b[1;32m    702\u001b[0m             \u001b[0mself\u001b[0m\u001b[0;34m.\u001b[0m\u001b[0m_parent_ident\u001b[0m\u001b[0;34m,\u001b[0m\u001b[0;34m\u001b[0m\u001b[0;34m\u001b[0m\u001b[0m\n\u001b[1;32m    703\u001b[0m             \u001b[0mself\u001b[0m\u001b[0;34m.\u001b[0m\u001b[0m_parent_header\u001b[0m\u001b[0;34m,\u001b[0m\u001b[0;34m\u001b[0m\u001b[0;34m\u001b[0m\u001b[0m\n\u001b[0;32m--> 704\u001b[0;31m             \u001b[0mpassword\u001b[0m\u001b[0;34m=\u001b[0m\u001b[0;32mFalse\u001b[0m\u001b[0;34m,\u001b[0m\u001b[0;34m\u001b[0m\u001b[0;34m\u001b[0m\u001b[0m\n\u001b[0m\u001b[1;32m    705\u001b[0m         )\n\u001b[1;32m    706\u001b[0m \u001b[0;34m\u001b[0m\u001b[0m\n",
            "\u001b[0;32m/usr/local/lib/python3.6/dist-packages/ipykernel/kernelbase.py\u001b[0m in \u001b[0;36m_input_request\u001b[0;34m(self, prompt, ident, parent, password)\u001b[0m\n\u001b[1;32m    732\u001b[0m             \u001b[0;32mexcept\u001b[0m \u001b[0mKeyboardInterrupt\u001b[0m\u001b[0;34m:\u001b[0m\u001b[0;34m\u001b[0m\u001b[0;34m\u001b[0m\u001b[0m\n\u001b[1;32m    733\u001b[0m                 \u001b[0;31m# re-raise KeyboardInterrupt, to truncate traceback\u001b[0m\u001b[0;34m\u001b[0m\u001b[0;34m\u001b[0m\u001b[0;34m\u001b[0m\u001b[0m\n\u001b[0;32m--> 734\u001b[0;31m                 \u001b[0;32mraise\u001b[0m \u001b[0mKeyboardInterrupt\u001b[0m\u001b[0;34m\u001b[0m\u001b[0;34m\u001b[0m\u001b[0m\n\u001b[0m\u001b[1;32m    735\u001b[0m             \u001b[0;32melse\u001b[0m\u001b[0;34m:\u001b[0m\u001b[0;34m\u001b[0m\u001b[0;34m\u001b[0m\u001b[0m\n\u001b[1;32m    736\u001b[0m                 \u001b[0;32mbreak\u001b[0m\u001b[0;34m\u001b[0m\u001b[0;34m\u001b[0m\u001b[0m\n",
            "\u001b[0;31mKeyboardInterrupt\u001b[0m: "
          ]
        }
      ]
    },
    {
      "cell_type": "markdown",
      "metadata": {
        "id": "-0sdutTDnTKA"
      },
      "source": [
        "##### Q9. Given the score sheet of participants in a competition, you are required to find the runner-up score. You are given scores in a list. Find the score of the runner-up.\n",
        "\n",
        "```\n",
        "list1 - [2, 3, 6, 6, 5]\n",
        "runner_up - 5\n",
        "\n",
        "list2 - [1, 7, 5, 3, 10, 4, 5, 5, 6, 11]\n",
        "runner_up - 10\n",
        "```"
      ]
    },
    {
      "cell_type": "code",
      "metadata": {
        "id": "12YP9OaqpGRK",
        "colab": {
          "base_uri": "https://localhost:8080/"
        },
        "outputId": "1269607f-b30f-48fc-f611-2dbbad63ab92"
      },
      "source": [
        "list1 = [2, 3, 6, 6, 5]\n",
        "print(\"list1 - \" + str(list1))\n",
        "wir = max(list1)\n",
        "list1.remove(wir)\n",
        "runUp = max(list1)\n",
        "while runUp == wir:\n",
        "  list1.remove(runUp)\n",
        "  runUp = max(list1)\n",
        "print(\"runner_up - \" + str(runUp))\n",
        "\n",
        "list2 = [1, 7, 5, 3, 10, 4, 5, 5, 6, 11]\n",
        "print(\"\\nlist2 - \" + str(list2))\n",
        "wir = max(list2)\n",
        "list2.remove(wir)\n",
        "runUp = max(list2)\n",
        "while runUp == wir:\n",
        "  list2.remove(runUp)\n",
        "  runUp = max(list2)\n",
        "print(\"runner_up - \" + str(runUp))"
      ],
      "execution_count": null,
      "outputs": [
        {
          "output_type": "stream",
          "text": [
            "list1 - [2, 3, 6, 6, 5]\n",
            "runner_up - 5\n",
            "\n",
            "list2 - [1, 7, 5, 3, 10, 4, 5, 5, 6, 11]\n",
            "runner_up - 10\n"
          ],
          "name": "stdout"
        }
      ]
    }
  ]
}